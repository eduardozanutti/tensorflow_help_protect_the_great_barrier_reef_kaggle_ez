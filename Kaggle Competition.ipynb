{
 "cells": [
  {
   "cell_type": "markdown",
   "id": "68b9ac24",
   "metadata": {},
   "source": [
    "# Object Detection: A YOLOv4 Approach by Eduardo Zanutti"
   ]
  },
  {
   "cell_type": "markdown",
   "id": "eb25afbe",
   "metadata": {},
   "source": [
    "# GitHub Repositories\n",
    "[Darknet AlexeyAB](https://github.com/AlexeyAB/darknet#how-to-train-to-detect-your-custom-objects)\n",
    "<br>\n",
    "[LabelImg](https://github.com/tzutalin/labelImg)"
   ]
  },
  {
   "cell_type": "markdown",
   "id": "bf38f90e",
   "metadata": {},
   "source": [
    "# Requirements:\n",
    "General:\n",
    "<br>\n",
    "[Microsoft Visual Studio](https://visualstudio.microsoft.com/thank-you-downloading-visual-studio/?sku=Community) >= 2017\n",
    "<br>\n",
    "[CMAKE GUI](https://cmake.org/download/) >= 3.18\n",
    "<br>\n",
    "[Phyton](https://www.python.org/ftp/python/3.10.0/python-3.10.0-amd64.exe) >= 3.6\n",
    "<br>\n",
    "[OpenCV](https://opencv.org/releases.html) = 4.4.0\n",
    "<br>\n",
    "[OpenCV - Extra Modules](https://github.com/opencv/opencv_contrib/tree/) = 4.4.0\n",
    "<br>\n",
    "For com GPU:\n",
    "<br>\n",
    "[Verificar as GPUs compatíveis com CUDA e qual developerkit deve ser instalado](https://en.wikipedia.org/wiki/CUDA#GPUs_supported)\n",
    "<br>\n",
    "[Cuda Developerkit](https://developer.nvidia.com/cuda-toolkit-archive) >= 10.2\n",
    "<br>\n",
    "[cuDNN](https://developer.nvidia.com/rdp/cudnn-archive) >= 8.0.2"
   ]
  },
  {
   "cell_type": "markdown",
   "id": "c6b2870e",
   "metadata": {},
   "source": [
    "## Libs for Installation"
   ]
  },
  {
   "cell_type": "code",
   "execution_count": null,
   "id": "857b378d",
   "metadata": {},
   "outputs": [],
   "source": [
    "pip install --upgrade pip"
   ]
  },
  {
   "cell_type": "code",
   "execution_count": null,
   "id": "74f40791",
   "metadata": {},
   "outputs": [],
   "source": [
    "pip install opencv-python==4.4.0.40"
   ]
  },
  {
   "cell_type": "code",
   "execution_count": null,
   "id": "7b98d62b",
   "metadata": {},
   "outputs": [],
   "source": [
    "pip install wget"
   ]
  },
  {
   "cell_type": "markdown",
   "id": "46f6c2b1",
   "metadata": {},
   "source": [
    "# Libs"
   ]
  },
  {
   "cell_type": "code",
   "execution_count": null,
   "id": "15365a48",
   "metadata": {},
   "outputs": [],
   "source": [
    "import os\n",
    "import cv2\n",
    "import wget\n",
    "import shutil\n",
    "import numpy as np"
   ]
  }
 ],
 "metadata": {
  "kernelspec": {
   "display_name": "Python 3 (ipykernel)",
   "language": "python",
   "name": "python3"
  },
  "language_info": {
   "codemirror_mode": {
    "name": "ipython",
    "version": 3
   },
   "file_extension": ".py",
   "mimetype": "text/x-python",
   "name": "python",
   "nbconvert_exporter": "python",
   "pygments_lexer": "ipython3",
   "version": "3.9.7"
  }
 },
 "nbformat": 4,
 "nbformat_minor": 5
}
